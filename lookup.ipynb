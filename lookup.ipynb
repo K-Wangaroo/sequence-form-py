{
 "cells": [
  {
   "cell_type": "code",
   "execution_count": 1,
   "metadata": {},
   "outputs": [],
   "source": [
    "import json\n",
    "\n",
    "with open('search.json') as f:\n",
    "    lookup = json.load(f)"
   ]
  },
  {
   "cell_type": "code",
   "execution_count": 3,
   "metadata": {},
   "outputs": [
    {
     "name": "stdout",
     "output_type": "stream",
     "text": [
      "0\n",
      "1\n",
      "((0, 0), [-1, -1], (('p0', 0, 'check/call'),))\n",
      "2\n",
      "((0, 0), [-1, -1], (('p0', 0, 'raise1'),))\n",
      "3\n",
      "((0, 1), [-1, -1], (('p0', 0, 'check/call'),))\n",
      "4\n",
      "((0, 1), [-1, -1], (('p0', 0, 'raise1'),))\n",
      "5\n",
      "((0, 2), [-1, -1], (('p0', 0, 'check/call'),))\n",
      "6\n",
      "((0, 2), [-1, -1], (('p0', 0, 'raise1'),))\n",
      "7\n",
      "((0, 3), [-1, -1], (('p0', 0, 'check/call'),))\n",
      "8\n",
      "((0, 3), [-1, -1], (('p0', 0, 'raise1'),))\n",
      "9\n",
      "((1, 0), [-1, -1], (('p0', 0, 'check/call'),))\n",
      "10\n",
      "((1, 0), [-1, -1], (('p0', 0, 'raise1'),))\n",
      "11\n",
      "((1, 1), [-1, -1], (('p0', 0, 'check/call'),))\n",
      "12\n",
      "((1, 1), [-1, -1], (('p0', 0, 'raise1'),))\n",
      "13\n",
      "((1, 2), [-1, -1], (('p0', 0, 'check/call'),))\n",
      "14\n",
      "((1, 2), [-1, -1], (('p0', 0, 'raise1'),))\n",
      "15\n",
      "((1, 3), [-1, -1], (('p0', 0, 'check/call'),))\n",
      "16\n",
      "((1, 3), [-1, -1], (('p0', 0, 'raise1'),))\n",
      "17\n",
      "((2, 0), [-1, -1], (('p0', 0, 'check/call'),))\n",
      "18\n",
      "((2, 0), [-1, -1], (('p0', 0, 'raise1'),))\n",
      "19\n",
      "((2, 1), [-1, -1], (('p0', 0, 'check/call'),))\n",
      "20\n",
      "((2, 1), [-1, -1], (('p0', 0, 'raise1'),))\n",
      "21\n",
      "((2, 2), [-1, -1], (('p0', 0, 'check/call'),))\n",
      "22\n",
      "((2, 2), [-1, -1], (('p0', 0, 'raise1'),))\n",
      "23\n",
      "((2, 3), [-1, -1], (('p0', 0, 'check/call'),))\n",
      "24\n",
      "((2, 3), [-1, -1], (('p0', 0, 'raise1'),))\n",
      "25\n",
      "((0, 0), [(0, 0), -1], (('p0', 0, 'check/call'), ('p1', 0, 'check/call'), ('p0', 1, 'check/call')))\n",
      "26\n",
      "((0, 0), [(0, 0), -1], (('p0', 0, 'check/call'), ('p1', 0, 'check/call'), ('p0', 1, 'raise1')))\n",
      "27\n",
      "((0, 1), [(0, 0), -1], (('p0', 0, 'check/call'), ('p1', 0, 'check/call'), ('p0', 1, 'check/call')))\n",
      "28\n",
      "((0, 1), [(0, 0), -1], (('p0', 0, 'check/call'), ('p1', 0, 'check/call'), ('p0', 1, 'raise1')))\n",
      "29\n",
      "((0, 2), [(0, 0), -1], (('p0', 0, 'check/call'), ('p1', 0, 'check/call'), ('p0', 1, 'check/call')))\n",
      "30\n",
      "((0, 2), [(0, 0), -1], (('p0', 0, 'check/call'), ('p1', 0, 'check/call'), ('p0', 1, 'raise1')))\n",
      "31\n",
      "((0, 3), [(0, 0), -1], (('p0', 0, 'check/call'), ('p1', 0, 'check/call'), ('p0', 1, 'check/call')))\n",
      "32\n",
      "((0, 3), [(0, 0), -1], (('p0', 0, 'check/call'), ('p1', 0, 'check/call'), ('p0', 1, 'raise1')))\n",
      "33\n",
      "((1, 0), [(0, 0), -1], (('p0', 0, 'check/call'), ('p1', 0, 'check/call'), ('p0', 1, 'check/call')))\n",
      "34\n",
      "((1, 0), [(0, 0), -1], (('p0', 0, 'check/call'), ('p1', 0, 'check/call'), ('p0', 1, 'raise1')))\n",
      "35\n",
      "((1, 1), [(0, 0), -1], (('p0', 0, 'check/call'), ('p1', 0, 'check/call'), ('p0', 1, 'check/call')))\n",
      "36\n",
      "((1, 1), [(0, 0), -1], (('p0', 0, 'check/call'), ('p1', 0, 'check/call'), ('p0', 1, 'raise1')))\n",
      "37\n",
      "((1, 2), [(0, 0), -1], (('p0', 0, 'check/call'), ('p1', 0, 'check/call'), ('p0', 1, 'check/call')))\n",
      "38\n",
      "((1, 2), [(0, 0), -1], (('p0', 0, 'check/call'), ('p1', 0, 'check/call'), ('p0', 1, 'raise1')))\n",
      "39\n",
      "((1, 3), [(0, 0), -1], (('p0', 0, 'check/call'), ('p1', 0, 'check/call'), ('p0', 1, 'check/call')))\n",
      "40\n",
      "((1, 3), [(0, 0), -1], (('p0', 0, 'check/call'), ('p1', 0, 'check/call'), ('p0', 1, 'raise1')))\n",
      "41\n",
      "((2, 0), [(0, 0), -1], (('p0', 0, 'check/call'), ('p1', 0, 'check/call'), ('p0', 1, 'check/call')))\n",
      "42\n",
      "((2, 0), [(0, 0), -1], (('p0', 0, 'check/call'), ('p1', 0, 'check/call'), ('p0', 1, 'raise1')))\n",
      "43\n",
      "((2, 1), [(0, 0), -1], (('p0', 0, 'check/call'), ('p1', 0, 'check/call'), ('p0', 1, 'check/call')))\n",
      "44\n",
      "((2, 1), [(0, 0), -1], (('p0', 0, 'check/call'), ('p1', 0, 'check/call'), ('p0', 1, 'raise1')))\n",
      "45\n",
      "((2, 2), [(0, 0), -1], (('p0', 0, 'check/call'), ('p1', 0, 'check/call'), ('p0', 1, 'check/call')))\n",
      "46\n",
      "((2, 2), [(0, 0), -1], (('p0', 0, 'check/call'), ('p1', 0, 'check/call'), ('p0', 1, 'raise1')))\n",
      "47\n",
      "((2, 3), [(0, 0), -1], (('p0', 0, 'check/call'), ('p1', 0, 'check/call'), ('p0', 1, 'check/call')))\n",
      "48\n",
      "((2, 3), [(0, 0), -1], (('p0', 0, 'check/call'), ('p1', 0, 'check/call'), ('p0', 1, 'raise1')))\n",
      "49\n",
      "((0, 0), [(0, 0), (0, 0)], (('p0', 0, 'check/call'), ('p1', 0, 'check/call'), ('p0', 1, 'check/call'), ('p1', 1, 'check/call'), ('p0', 2, 'check/call')))\n",
      "50\n",
      "((0, 0), [(0, 0), (0, 0)], (('p0', 0, 'check/call'), ('p1', 0, 'check/call'), ('p0', 1, 'check/call'), ('p1', 1, 'check/call'), ('p0', 2, 'raise1')))\n"
     ]
    }
   ],
   "source": [
    "i = 0\n",
    "for key in lookup['0'].keys():\n",
    "    print(key)\n",
    "    i += 1\n",
    "    if i > 100:\n",
    "        break"
   ]
  },
  {
   "cell_type": "code",
   "execution_count": 5,
   "metadata": {},
   "outputs": [
    {
     "data": {
      "text/plain": [
       "{'player': 0,\n",
       " 'round': 0,\n",
       " 'hand': [0, 2],\n",
       " 'board': [-1, -1],\n",
       " 'pot': [1, 1],\n",
       " 'parent': 0,\n",
       " 'node': 5,\n",
       " 'action seq': [['p0', 0, 'check/call']]}"
      ]
     },
     "execution_count": 5,
     "metadata": {},
     "output_type": "execute_result"
    }
   ],
   "source": [
    "# dict indexed by [player ('0' or '1')], [node i.e. '5' or (hand, board, action seq))\n",
    "lookup['0']['5']"
   ]
  },
  {
   "cell_type": "code",
   "execution_count": 9,
   "metadata": {},
   "outputs": [
    {
     "data": {
      "text/plain": [
       "{'player': 0,\n",
       " 'round': 2,\n",
       " 'hand': [0, 0],\n",
       " 'board': [[0, 0], [0, 0]],\n",
       " 'pot': [1, 1],\n",
       " 'parent': 25,\n",
       " 'node': 49,\n",
       " 'action seq': [['p0', 0, 'check/call'],\n",
       "  ['p1', 0, 'check/call'],\n",
       "  ['p0', 1, 'check/call'],\n",
       "  ['p1', 1, 'check/call'],\n",
       "  ['p0', 2, 'check/call']]}"
      ]
     },
     "execution_count": 9,
     "metadata": {},
     "output_type": "execute_result"
    }
   ],
   "source": [
    "# make sure you use double quotes for the action seq\n",
    "lookup['0'][\"((0, 0), [(0, 0), (0, 0)], (('p0', 0, 'check/call'), ('p1', 0, 'check/call'), ('p0', 1, 'check/call'), ('p1', 1, 'check/call'), ('p0', 2, 'check/call')))\"]"
   ]
  },
  {
   "cell_type": "markdown",
   "metadata": {},
   "source": [
    "keep in mind when using this that the 'raise' in action seq is actually 'raise1'. originally each raise + number was supposed to correspond to a bet size"
   ]
  },
  {
   "cell_type": "code",
   "execution_count": 53,
   "metadata": {},
   "outputs": [
    {
     "data": {
      "text/plain": [
       "{'player': 0,\n",
       " 'round': 2,\n",
       " 'hand': [1, 0],\n",
       " 'board': [[1, 2], [2, 0]],\n",
       " 'pot': [1, 1],\n",
       " 'parent': 276789,\n",
       " 'node': 277485,\n",
       " 'action seq': [['p0', 0, 'raise1'],\n",
       "  ['p1', 0, 'raise1'],\n",
       "  ['p0', 0, 'check/call'],\n",
       "  ['p0', 1, 'check/call'],\n",
       "  ['p1', 1, 'check/call'],\n",
       "  ['p0', 2, 'check/call']]}"
      ]
     },
     "execution_count": 53,
     "metadata": {},
     "output_type": "execute_result"
    }
   ],
   "source": [
    "player = '0'\n",
    "action_seq = (('p0', 0, 'raise1'), ('p1', 0, 'raise1'), ('p0', 0, 'check/call'), ('p0', 1, 'check/call'), ('p1', 1, 'check/call'), ('p0', 2, 'check/call'))\n",
    "hand = (1, 0)\n",
    "board = [(1, 2), (2,0)]\n",
    "\n",
    "lookup[player][str((hand, board, action_seq))]"
   ]
  },
  {
   "cell_type": "code",
   "execution_count": 55,
   "metadata": {},
   "outputs": [
    {
     "data": {
      "text/plain": [
       "{'player': 1,\n",
       " 'round': 2,\n",
       " 'hand': [2, 3],\n",
       " 'board': [[0, 0], [2, 0]],\n",
       " 'pot': [1, 1],\n",
       " 'parent': 3131,\n",
       " 'node': 3827,\n",
       " 'action seq': [['p0', 0, 'check/call'],\n",
       "  ['p1', 0, 'check/call'],\n",
       "  ['p0', 1, 'raise1'],\n",
       "  ['p1', 1, 'check/call'],\n",
       "  ['p0', 2, 'check/call'],\n",
       "  ['p1', 2, 'check/call']]}"
      ]
     },
     "execution_count": 55,
     "metadata": {},
     "output_type": "execute_result"
    }
   ],
   "source": [
    "player = '1'\n",
    "action_seq = (('p0', 0, 'check/call'), ('p1', 0, 'check/call'), ('p0', 1, 'raise1'), ('p1', 1, 'check/call'), ('p0', 2, 'check/call'), ('p1', 2, 'check/call'))\n",
    "hand = (2, 3)\n",
    "board = [(0, 0), (2, 0)]\n",
    "\n",
    "lookup[player][str((hand, board, action_seq))]"
   ]
  }
 ],
 "metadata": {
  "kernelspec": {
   "display_name": "env",
   "language": "python",
   "name": "python3"
  },
  "language_info": {
   "codemirror_mode": {
    "name": "ipython",
    "version": 3
   },
   "file_extension": ".py",
   "mimetype": "text/x-python",
   "name": "python",
   "nbconvert_exporter": "python",
   "pygments_lexer": "ipython3",
   "version": "3.9.6"
  }
 },
 "nbformat": 4,
 "nbformat_minor": 2
}
